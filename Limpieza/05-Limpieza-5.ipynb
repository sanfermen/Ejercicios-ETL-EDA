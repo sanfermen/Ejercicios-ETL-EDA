{
 "cells": [
  {
   "cell_type": "code",
   "execution_count": 1,
   "metadata": {},
   "outputs": [],
   "source": [
    "import pandas as pd\n",
    "import numpy as np\n",
    "from sklearn.impute import SimpleImputer\n",
    "from sklearn.experimental import enable_iterative_imputer\n",
    "from sklearn.impute import IterativeImputer\n",
    "from sklearn.impute import KNNImputer\n",
    "import sidetable as stb\n",
    "\n",
    "pd.options.display.max_columns = None"
   ]
  },
  {
   "cell_type": "code",
   "execution_count": 2,
   "metadata": {},
   "outputs": [
    {
     "data": {
      "text/html": [
       "<div>\n",
       "<style scoped>\n",
       "    .dataframe tbody tr th:only-of-type {\n",
       "        vertical-align: middle;\n",
       "    }\n",
       "\n",
       "    .dataframe tbody tr th {\n",
       "        vertical-align: top;\n",
       "    }\n",
       "\n",
       "    .dataframe thead th {\n",
       "        text-align: right;\n",
       "    }\n",
       "</style>\n",
       "<table border=\"1\" class=\"dataframe\">\n",
       "  <thead>\n",
       "    <tr style=\"text-align: right;\">\n",
       "      <th></th>\n",
       "      <th>year</th>\n",
       "      <th>type</th>\n",
       "      <th>country</th>\n",
       "      <th>activity</th>\n",
       "      <th>age</th>\n",
       "      <th>species</th>\n",
       "      <th>month</th>\n",
       "      <th>fatal</th>\n",
       "      <th>gender</th>\n",
       "    </tr>\n",
       "  </thead>\n",
       "  <tbody>\n",
       "    <tr>\n",
       "      <th>0</th>\n",
       "      <td>2018</td>\n",
       "      <td>Boating</td>\n",
       "      <td>usa</td>\n",
       "      <td>Paddling</td>\n",
       "      <td>57.0</td>\n",
       "      <td>White</td>\n",
       "      <td>Jun</td>\n",
       "      <td>N</td>\n",
       "      <td>F</td>\n",
       "    </tr>\n",
       "    <tr>\n",
       "      <th>1</th>\n",
       "      <td>2018</td>\n",
       "      <td>Unprovoked</td>\n",
       "      <td>brazil</td>\n",
       "      <td>Swimming</td>\n",
       "      <td>18.0</td>\n",
       "      <td>Tiger</td>\n",
       "      <td>Jun</td>\n",
       "      <td>Y</td>\n",
       "      <td>M</td>\n",
       "    </tr>\n",
       "  </tbody>\n",
       "</table>\n",
       "</div>"
      ],
      "text/plain": [
       "   year        type country  activity   age species month fatal gender\n",
       "0  2018     Boating     usa  Paddling  57.0   White   Jun     N      F\n",
       "1  2018  Unprovoked  brazil  Swimming  18.0   Tiger   Jun     Y      M"
      ]
     },
     "execution_count": 2,
     "metadata": {},
     "output_type": "execute_result"
    }
   ],
   "source": [
    "df = pd.read_csv(\"../data/03-tiburon_4.csv\", index_col = 0)\n",
    "df.reset_index(drop= True, inplace= True) # Reseteamos el número de los índices y borramos la columna index que se nos generaría\n",
    "df.head(2)"
   ]
  },
  {
   "attachments": {},
   "cell_type": "markdown",
   "metadata": {},
   "source": [
    "# Pair Programming Limpieza V\n",
    "En este caso trabajaremos con el dataframe que limpiamos en el ejercicio de pair de Limpieza III donde limpiabamos las columnas de species, age, etc. y eliminabamos los outliers. Hoy volveremos a gestionar valores nulos, pero en este caso usaremos los métodos de imputación de sklearn."
   ]
  },
  {
   "attachments": {},
   "cell_type": "markdown",
   "metadata": {},
   "source": [
    "Antes de seguir, recordamos las preguntas que nos planteamos al principio del pair programming de EDA para dirigir nuestro análisis.\n",
    "\n",
    "- ¿Es Australia es el sitio más peligroso y letal para estar relajada en la playa?\n",
    "- ¿Cuál es el rango de edad que sufre la mayoría de los ataques?\n",
    "Independientemente de la edad, sufren los hombres más ataques que las mujeres?\n",
    "- ¿En qué mes ocurren más ataques?\n",
    "- ¿Cuál es la relación entre la especie y el tipo de ataque (si es fatal o no)?\n",
    "- ¿Cómo han evolucionado los ataques a lo largo del tiempo?"
   ]
  },
  {
   "attachments": {},
   "cell_type": "markdown",
   "metadata": {},
   "source": [
    "Es el momento de ponernos a trabajar con los valores nulos de nuevo 💪🏽. A lo largo de este ejercicio de pair programming vamos a intentar eliminar los valores nulos de nuestras columnas. En la lección hemos aprendido varios métodos de skelarn intentemos aplicarlos todos. Manos a la obra!\n",
    "\n",
    "1. Es el momento de eliminar los nulos:\n",
    "- Reemplazad los valores nulos de la columna age por la media de la edad usando el método SimpleImputer.\n",
    "- Reemplazad los valores nulos de la columna sex por la moda, usando el método SimpleImputer.\n",
    "💡 Pista 💡 La moda en este tipo de aproximación se indica como most_frequent.\n",
    "- Reemplazad los valores nulos de la columna type por el valor más frecuente (la moda) con el método SimpleImputer.\n",
    "- Utilizad el método KNN Imputer para reemplazar todos los valores nulos de las columnas numéricas.\n",
    "- Utilizad el método Iterative Imputer para reemplazar todos los valores nulos de las columnas numéricas.\n",
    "- ¿Podríais explicar qué diferencia hay entre estos dos últimos métodos?\n"
   ]
  },
  {
   "cell_type": "code",
   "execution_count": 3,
   "metadata": {},
   "outputs": [
    {
     "data": {
      "text/html": [
       "<div>\n",
       "<style scoped>\n",
       "    .dataframe tbody tr th:only-of-type {\n",
       "        vertical-align: middle;\n",
       "    }\n",
       "\n",
       "    .dataframe tbody tr th {\n",
       "        vertical-align: top;\n",
       "    }\n",
       "\n",
       "    .dataframe thead th {\n",
       "        text-align: right;\n",
       "    }\n",
       "</style>\n",
       "<table border=\"1\" class=\"dataframe\">\n",
       "  <thead>\n",
       "    <tr style=\"text-align: right;\">\n",
       "      <th></th>\n",
       "      <th>missing</th>\n",
       "      <th>total</th>\n",
       "      <th>percent</th>\n",
       "    </tr>\n",
       "  </thead>\n",
       "  <tbody>\n",
       "    <tr>\n",
       "      <th>age</th>\n",
       "      <td>156</td>\n",
       "      <td>1669</td>\n",
       "      <td>9.346914</td>\n",
       "    </tr>\n",
       "    <tr>\n",
       "      <th>month</th>\n",
       "      <td>152</td>\n",
       "      <td>1669</td>\n",
       "      <td>9.107250</td>\n",
       "    </tr>\n",
       "    <tr>\n",
       "      <th>fatal</th>\n",
       "      <td>99</td>\n",
       "      <td>1669</td>\n",
       "      <td>5.931696</td>\n",
       "    </tr>\n",
       "    <tr>\n",
       "      <th>activity</th>\n",
       "      <td>31</td>\n",
       "      <td>1669</td>\n",
       "      <td>1.857400</td>\n",
       "    </tr>\n",
       "    <tr>\n",
       "      <th>gender</th>\n",
       "      <td>14</td>\n",
       "      <td>1669</td>\n",
       "      <td>0.838826</td>\n",
       "    </tr>\n",
       "    <tr>\n",
       "      <th>country</th>\n",
       "      <td>10</td>\n",
       "      <td>1669</td>\n",
       "      <td>0.599161</td>\n",
       "    </tr>\n",
       "    <tr>\n",
       "      <th>year</th>\n",
       "      <td>0</td>\n",
       "      <td>1669</td>\n",
       "      <td>0.000000</td>\n",
       "    </tr>\n",
       "    <tr>\n",
       "      <th>type</th>\n",
       "      <td>0</td>\n",
       "      <td>1669</td>\n",
       "      <td>0.000000</td>\n",
       "    </tr>\n",
       "    <tr>\n",
       "      <th>species</th>\n",
       "      <td>0</td>\n",
       "      <td>1669</td>\n",
       "      <td>0.000000</td>\n",
       "    </tr>\n",
       "  </tbody>\n",
       "</table>\n",
       "</div>"
      ],
      "text/plain": [
       "          missing  total   percent\n",
       "age           156   1669  9.346914\n",
       "month         152   1669  9.107250\n",
       "fatal          99   1669  5.931696\n",
       "activity       31   1669  1.857400\n",
       "gender         14   1669  0.838826\n",
       "country        10   1669  0.599161\n",
       "year            0   1669  0.000000\n",
       "type            0   1669  0.000000\n",
       "species         0   1669  0.000000"
      ]
     },
     "execution_count": 3,
     "metadata": {},
     "output_type": "execute_result"
    }
   ],
   "source": [
    "df.stb.missing()"
   ]
  },
  {
   "cell_type": "code",
   "execution_count": 4,
   "metadata": {},
   "outputs": [],
   "source": [
    "# Creamos una función para reemplazar los nulos con el metodo SimpleImputer\n",
    "# Tendremos que pasarle el dataframe que queramos usar, la columna y la estrategia a usar para sustituir los nulos\n",
    "def reemp_nulos_simpleimputer(dataf, col,strat):\n",
    "    # Iniciamos el método\n",
    "    imputer = SimpleImputer(strategy=strat, missing_values = np.nan)\n",
    "    # Usamos la función fit para ajustar el imputer en la columna sobre la que trabajamos\n",
    "    imputer = imputer.fit(dataf[[col]])\n",
    "    # Usamos el transform para rellenar los valores nulos\n",
    "    dataf[col] = imputer.transform(dataf[[col]])\n",
    "    # Pedimos que nos devuelva la suma de valores nulos de la columna para comprobar si se han borrado\n",
    "    return dataf[col].isnull().sum()"
   ]
  },
  {
   "cell_type": "code",
   "execution_count": 5,
   "metadata": {},
   "outputs": [],
   "source": [
    "# Creamos una función para reemplazar los nulos con el metodo IterativeImputer y sustituirlas directamente\n",
    "# Tendremos que pasarle el dataframe que queramos usar y la estrategia a usar para sustituir los nulos\n",
    "def reemp_nulos_iterativeimputer(dataf, strat):\n",
    "    # Primero sacamos las variables numéricas con select_dtypes\n",
    "    num = dataf.select_dtypes(include = np.number)\n",
    "    # Creamos una instancia del metodo con las caracteristicas que queremos para sustituir los nulos\n",
    "    imputer = IterativeImputer(initial_strategy = strat, missing_values= np.nan, imputation_order= \"ascending\")\n",
    "    # Aplicamos sobre nuestras variables numericas\n",
    "    imputer.fit(num)\n",
    "    # Transformamos los datos para que se transformen los nulos, y como nos devuelve un array\n",
    "    # lo transformamos directamente en dataframe\n",
    "    numericas_trans = pd.DataFrame(imputer.transform(num), columns = num.columns)\n",
    "    # Sacamos el nombre de las columnas del data sin nulos\n",
    "    columnas = numericas_trans.columns\n",
    "    # Utilizando esta lista de columnas, eliminamos estas del dataframe\n",
    "    dataf.drop(columnas, axis= 1, inplace = True)\n",
    "    # creamos nuevas columnas en el dataframe original, basándonos en estas columnas numericas sin nulos\n",
    "    dataf[columnas] = numericas_trans[columnas]\n",
    "    # Nos devuelve la suma de nulos del dataframe, para comprobar que se hayan borrado los nulos\n",
    "    return dataf.isnull().sum()"
   ]
  },
  {
   "cell_type": "code",
   "execution_count": 6,
   "metadata": {},
   "outputs": [],
   "source": [
    "# Creamos una función para reemplazar los nulos con el metodo KNNImputer y sustituirlas directamente\n",
    "# Tendremos que pasarle el dataframe que queramos usar\n",
    "def reemp_nulos_num_KNN(dataf):\n",
    "    # Primero sacamos las variables numéricas con select_dtypes\n",
    "    num = dataf.select_dtypes(include = np.number)\n",
    "    # Iniciamos el KNNimputer\n",
    "    imputerKNN = KNNImputer(n_neighbors=5)\n",
    "    # Aplicamos el imputer a las variables numericas\n",
    "    imputerKNN.fit(num)\n",
    "    # Transformamos los datos para que se transformen los nulos, y como nos devuelve un array\n",
    "    # lo transformamos directamente en dataframe\n",
    "    df_knn = pd.DataFrame(imputerKNN.transform(num), columns = num.columns)\n",
    "    # Sacamos el nombre de las columnas del data sin nulos\n",
    "    columnas = df_knn.columns\n",
    "    # Utilizando esta lista de columnas, eliminamos estas del dataframe\n",
    "    dataf.drop(columnas, axis= 1, inplace = True)\n",
    "    # creamos nuevas columnas en el dataframe original, basándonos en estas columnas numericas sin nulos\n",
    "    dataf[columnas] = df_knn[columnas]\n",
    "    # Nos devuelve la suma de nulos del dataframe, para comprobar que se hayan borrado los nulos\n",
    "    return dataf.isnull().sum()"
   ]
  },
  {
   "cell_type": "markdown",
   "metadata": {},
   "source": [
    "1. Es el momento de eliminar los nulos:\n",
    "- Reemplazad los valores nulos de la columna age por la media de la edad usando el método SimpleImputer."
   ]
  },
  {
   "cell_type": "code",
   "execution_count": 7,
   "metadata": {},
   "outputs": [
    {
     "data": {
      "text/plain": [
       "0"
      ]
     },
     "execution_count": 7,
     "metadata": {},
     "output_type": "execute_result"
    }
   ],
   "source": [
    "reemp_nulos_simpleimputer(df, \"age\", \"mean\")"
   ]
  },
  {
   "attachments": {},
   "cell_type": "markdown",
   "metadata": {},
   "source": [
    "- Reemplazad los valores nulos de la columna gender por la moda, usando el método SimpleImputer.\n",
    "💡 Pista 💡 La moda en este tipo de aproximación se indica como most_frequent."
   ]
  },
  {
   "cell_type": "code",
   "execution_count": 8,
   "metadata": {},
   "outputs": [
    {
     "data": {
      "text/plain": [
       "0"
      ]
     },
     "execution_count": 8,
     "metadata": {},
     "output_type": "execute_result"
    }
   ],
   "source": [
    "reemp_nulos_simpleimputer(df, \"gender\", \"most_frequent\")"
   ]
  },
  {
   "attachments": {},
   "cell_type": "markdown",
   "metadata": {},
   "source": [
    "- Reemplazad los valores nulos de la columna type por el valor más frecuente (la moda) con el método SimpleImputer."
   ]
  },
  {
   "cell_type": "code",
   "execution_count": 9,
   "metadata": {},
   "outputs": [
    {
     "data": {
      "text/plain": [
       "0"
      ]
     },
     "execution_count": 9,
     "metadata": {},
     "output_type": "execute_result"
    }
   ],
   "source": [
    "reemp_nulos_simpleimputer(df, \"type\", \"most_frequent\")"
   ]
  },
  {
   "attachments": {},
   "cell_type": "markdown",
   "metadata": {},
   "source": [
    "- Utilizad el método KNN Imputer para reemplazar todos los valores nulos de las columnas numéricas."
   ]
  },
  {
   "cell_type": "code",
   "execution_count": 10,
   "metadata": {},
   "outputs": [],
   "source": [
    "# Hacemos una copia para poder usar los dos métodos\n",
    "df2 = df.copy()"
   ]
  },
  {
   "cell_type": "code",
   "execution_count": 11,
   "metadata": {},
   "outputs": [
    {
     "data": {
      "text/plain": [
       "type          0\n",
       "country      10\n",
       "activity     31\n",
       "species       0\n",
       "month       152\n",
       "fatal        99\n",
       "gender        0\n",
       "year          0\n",
       "age           0\n",
       "dtype: int64"
      ]
     },
     "execution_count": 11,
     "metadata": {},
     "output_type": "execute_result"
    }
   ],
   "source": [
    "reemp_nulos_num_KNN(df2)"
   ]
  },
  {
   "attachments": {},
   "cell_type": "markdown",
   "metadata": {},
   "source": [
    "- Utilizad el método Iterative Imputer para reemplazar todos los valores nulos de las columnas numéricas."
   ]
  },
  {
   "cell_type": "code",
   "execution_count": 12,
   "metadata": {},
   "outputs": [
    {
     "data": {
      "text/plain": [
       "type          0\n",
       "country      10\n",
       "activity     31\n",
       "species       0\n",
       "month       152\n",
       "fatal        99\n",
       "gender        0\n",
       "year          0\n",
       "age           0\n",
       "dtype: int64"
      ]
     },
     "execution_count": 12,
     "metadata": {},
     "output_type": "execute_result"
    }
   ],
   "source": [
    "# Con este método modificamos ya el original para guardarlo sin nulos\n",
    "reemp_nulos_iterativeimputer(df, \"median\")"
   ]
  },
  {
   "attachments": {},
   "cell_type": "markdown",
   "metadata": {},
   "source": [
    "- ¿Podríais explicar qué diferencia hay entre estos dos últimos métodos?"
   ]
  },
  {
   "attachments": {},
   "cell_type": "markdown",
   "metadata": {},
   "source": [
    "En Iterative-Imputer comprueba los nulos con otras variables y realiza una estimación. En este caso podemos escoger la estrategia para modificar los nulos, entre la media, la mediana, la moda (most_frequent) y constant(reemplaza los valores faltantes con fill_value).\n",
    "\n",
    "Con KNN Imputer lo que hace sería cambiar el valor por los vecinos más cercanos (promedia las distancias entre los vecinos más cercanos). Se le puede indicar el número de vecinos que queremos que considere. Por defecto, le pasamos 5."
   ]
  },
  {
   "attachments": {},
   "cell_type": "markdown",
   "metadata": {},
   "source": [
    "2. Guardad el csv para seguir trabajando con el en los siguientes ejercicios de pair"
   ]
  },
  {
   "cell_type": "code",
   "execution_count": 13,
   "metadata": {},
   "outputs": [],
   "source": [
    "df.to_csv(\"../data/05-tiburon_4.csv\")"
   ]
  }
 ],
 "metadata": {
  "kernelspec": {
   "display_name": "base",
   "language": "python",
   "name": "python3"
  },
  "language_info": {
   "codemirror_mode": {
    "name": "ipython",
    "version": 3
   },
   "file_extension": ".py",
   "mimetype": "text/x-python",
   "name": "python",
   "nbconvert_exporter": "python",
   "pygments_lexer": "ipython3",
   "version": "3.9.7"
  },
  "orig_nbformat": 4,
  "vscode": {
   "interpreter": {
    "hash": "f25093244bacc7e62393c275f4a06a2027bcbdb9a67d7fe53680dbd2484adc03"
   }
  }
 },
 "nbformat": 4,
 "nbformat_minor": 2
}
