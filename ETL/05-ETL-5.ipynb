{
 "cells": [
  {
   "cell_type": "code",
   "execution_count": 14,
   "metadata": {},
   "outputs": [],
   "source": [
    "import pandas as pd\n",
    "import mysql.connector"
   ]
  },
  {
   "attachments": {},
   "cell_type": "markdown",
   "metadata": {},
   "source": [
    "Cargamos los dataframes que necesitamos"
   ]
  },
  {
   "cell_type": "code",
   "execution_count": 15,
   "metadata": {},
   "outputs": [
    {
     "data": {
      "text/html": [
       "<div>\n",
       "<style scoped>\n",
       "    .dataframe tbody tr th:only-of-type {\n",
       "        vertical-align: middle;\n",
       "    }\n",
       "\n",
       "    .dataframe tbody tr th {\n",
       "        vertical-align: top;\n",
       "    }\n",
       "\n",
       "    .dataframe thead th {\n",
       "        text-align: right;\n",
       "    }\n",
       "</style>\n",
       "<table border=\"1\" class=\"dataframe\">\n",
       "  <thead>\n",
       "    <tr style=\"text-align: right;\">\n",
       "      <th></th>\n",
       "      <th>year</th>\n",
       "      <th>type</th>\n",
       "      <th>country</th>\n",
       "      <th>activity</th>\n",
       "      <th>age</th>\n",
       "      <th>species</th>\n",
       "      <th>month</th>\n",
       "      <th>fatal</th>\n",
       "      <th>gender</th>\n",
       "      <th>id_country</th>\n",
       "    </tr>\n",
       "  </thead>\n",
       "  <tbody>\n",
       "    <tr>\n",
       "      <th>0</th>\n",
       "      <td>2018</td>\n",
       "      <td>Boating</td>\n",
       "      <td>usa</td>\n",
       "      <td>Paddling</td>\n",
       "      <td>57.0</td>\n",
       "      <td>White</td>\n",
       "      <td>Jun</td>\n",
       "      <td>N</td>\n",
       "      <td>F</td>\n",
       "      <td>0</td>\n",
       "    </tr>\n",
       "    <tr>\n",
       "      <th>1</th>\n",
       "      <td>2018</td>\n",
       "      <td>Unprovoked</td>\n",
       "      <td>usa</td>\n",
       "      <td>Walking</td>\n",
       "      <td>15.0</td>\n",
       "      <td>Bull</td>\n",
       "      <td>May</td>\n",
       "      <td>N</td>\n",
       "      <td>M</td>\n",
       "      <td>0</td>\n",
       "    </tr>\n",
       "  </tbody>\n",
       "</table>\n",
       "</div>"
      ],
      "text/plain": [
       "   year        type country  activity   age species month fatal gender  \\\n",
       "0  2018     Boating     usa  Paddling  57.0   White   Jun     N      F   \n",
       "1  2018  Unprovoked     usa   Walking  15.0    Bull   May     N      M   \n",
       "\n",
       "   id_country  \n",
       "0           0  \n",
       "1           0  "
      ]
     },
     "execution_count": 15,
     "metadata": {},
     "output_type": "execute_result"
    }
   ],
   "source": [
    "df_ataques = pd.read_csv(\"../data/06-tiburon_4.csv\", index_col = 0)\n",
    "df_ataques.head(2)"
   ]
  },
  {
   "cell_type": "code",
   "execution_count": 16,
   "metadata": {},
   "outputs": [
    {
     "data": {
      "text/html": [
       "<div>\n",
       "<style scoped>\n",
       "    .dataframe tbody tr th:only-of-type {\n",
       "        vertical-align: middle;\n",
       "    }\n",
       "\n",
       "    .dataframe tbody tr th {\n",
       "        vertical-align: top;\n",
       "    }\n",
       "\n",
       "    .dataframe thead th {\n",
       "        text-align: right;\n",
       "    }\n",
       "</style>\n",
       "<table border=\"1\" class=\"dataframe\">\n",
       "  <thead>\n",
       "    <tr style=\"text-align: right;\">\n",
       "      <th></th>\n",
       "      <th>timepoint</th>\n",
       "      <th>cloudcover</th>\n",
       "      <th>highcloud</th>\n",
       "      <th>midcloud</th>\n",
       "      <th>lowcloud</th>\n",
       "      <th>rh_profile</th>\n",
       "      <th>wind_profile</th>\n",
       "      <th>temp2m</th>\n",
       "      <th>lifted_index</th>\n",
       "      <th>rh2m</th>\n",
       "      <th>msl_pressure</th>\n",
       "      <th>prec_type</th>\n",
       "      <th>prec_amount</th>\n",
       "      <th>snow_depth</th>\n",
       "      <th>wind10m.direction</th>\n",
       "      <th>wind10m.speed</th>\n",
       "      <th>country</th>\n",
       "      <th>latitud</th>\n",
       "      <th>longitud</th>\n",
       "      <th>id_country</th>\n",
       "    </tr>\n",
       "  </thead>\n",
       "  <tbody>\n",
       "    <tr>\n",
       "      <th>0</th>\n",
       "      <td>3</td>\n",
       "      <td>7</td>\n",
       "      <td>-9999</td>\n",
       "      <td>-9999</td>\n",
       "      <td>-9999</td>\n",
       "      <td>[{'layer': '950mb', 'rh': 5}, {'layer': '900mb...</td>\n",
       "      <td>[{'layer': '950mb', 'direction': 150, 'speed':...</td>\n",
       "      <td>16</td>\n",
       "      <td>6</td>\n",
       "      <td>4</td>\n",
       "      <td>1024</td>\n",
       "      <td>none</td>\n",
       "      <td>0</td>\n",
       "      <td>0</td>\n",
       "      <td>110</td>\n",
       "      <td>2</td>\n",
       "      <td>usa</td>\n",
       "      <td>39.78373</td>\n",
       "      <td>-100.445882</td>\n",
       "      <td>0</td>\n",
       "    </tr>\n",
       "    <tr>\n",
       "      <th>1</th>\n",
       "      <td>6</td>\n",
       "      <td>8</td>\n",
       "      <td>-9999</td>\n",
       "      <td>-9999</td>\n",
       "      <td>-9999</td>\n",
       "      <td>[{'layer': '950mb', 'rh': 6}, {'layer': '900mb...</td>\n",
       "      <td>[{'layer': '950mb', 'direction': 265, 'speed':...</td>\n",
       "      <td>15</td>\n",
       "      <td>6</td>\n",
       "      <td>6</td>\n",
       "      <td>1025</td>\n",
       "      <td>none</td>\n",
       "      <td>0</td>\n",
       "      <td>0</td>\n",
       "      <td>220</td>\n",
       "      <td>2</td>\n",
       "      <td>usa</td>\n",
       "      <td>39.78373</td>\n",
       "      <td>-100.445882</td>\n",
       "      <td>0</td>\n",
       "    </tr>\n",
       "  </tbody>\n",
       "</table>\n",
       "</div>"
      ],
      "text/plain": [
       "   timepoint  cloudcover  highcloud  midcloud  lowcloud  \\\n",
       "0          3           7      -9999     -9999     -9999   \n",
       "1          6           8      -9999     -9999     -9999   \n",
       "\n",
       "                                          rh_profile  \\\n",
       "0  [{'layer': '950mb', 'rh': 5}, {'layer': '900mb...   \n",
       "1  [{'layer': '950mb', 'rh': 6}, {'layer': '900mb...   \n",
       "\n",
       "                                        wind_profile  temp2m  lifted_index  \\\n",
       "0  [{'layer': '950mb', 'direction': 150, 'speed':...      16             6   \n",
       "1  [{'layer': '950mb', 'direction': 265, 'speed':...      15             6   \n",
       "\n",
       "   rh2m  msl_pressure prec_type  prec_amount  snow_depth  wind10m.direction  \\\n",
       "0     4          1024      none            0           0                110   \n",
       "1     6          1025      none            0           0                220   \n",
       "\n",
       "   wind10m.speed country   latitud    longitud  id_country  \n",
       "0              2     usa  39.78373 -100.445882           0  \n",
       "1              2     usa  39.78373 -100.445882           0  "
      ]
     },
     "execution_count": 16,
     "metadata": {},
     "output_type": "execute_result"
    }
   ],
   "source": [
    "df_climas = pd.read_csv(\"../data/01-datos_clima.csv\", index_col= 0)\n",
    "df_climas.head(2)"
   ]
  },
  {
   "cell_type": "code",
   "execution_count": 17,
   "metadata": {},
   "outputs": [
    {
     "data": {
      "text/html": [
       "<div>\n",
       "<style scoped>\n",
       "    .dataframe tbody tr th:only-of-type {\n",
       "        vertical-align: middle;\n",
       "    }\n",
       "\n",
       "    .dataframe tbody tr th {\n",
       "        vertical-align: top;\n",
       "    }\n",
       "\n",
       "    .dataframe thead th {\n",
       "        text-align: right;\n",
       "    }\n",
       "</style>\n",
       "<table border=\"1\" class=\"dataframe\">\n",
       "  <thead>\n",
       "    <tr style=\"text-align: right;\">\n",
       "      <th></th>\n",
       "      <th>id_country</th>\n",
       "      <th>country</th>\n",
       "    </tr>\n",
       "  </thead>\n",
       "  <tbody>\n",
       "    <tr>\n",
       "      <th>0</th>\n",
       "      <td>0</td>\n",
       "      <td>usa</td>\n",
       "    </tr>\n",
       "    <tr>\n",
       "      <th>1</th>\n",
       "      <td>1</td>\n",
       "      <td>brazil</td>\n",
       "    </tr>\n",
       "  </tbody>\n",
       "</table>\n",
       "</div>"
      ],
      "text/plain": [
       "   id_country country\n",
       "0           0     usa\n",
       "1           1  brazil"
      ]
     },
     "execution_count": 17,
     "metadata": {},
     "output_type": "execute_result"
    }
   ],
   "source": [
    "df_paises = pd.read_csv(\"../data/00-paises.csv\", index_col= 0)\n",
    "df_paises.head(2)"
   ]
  },
  {
   "attachments": {},
   "cell_type": "markdown",
   "metadata": {},
   "source": [
    "# Pair Programming ETL Carga I\n",
    "Igual que en el ejercicio de pair programming de ETL Transformación II, tendréis que crear una clase que nos permita cargar los datos en SQL I."
   ]
  },
  {
   "cell_type": "markdown",
   "metadata": {},
   "source": [
    "Creamos la clase"
   ]
  },
  {
   "cell_type": "code",
   "execution_count": 18,
   "metadata": {},
   "outputs": [],
   "source": [
    "class Subir_SQL:\n",
    "    def __init__(self, nombre_bbdd, contraseña):\n",
    "        # nuestra clase va tener atributos, nombre de la BBDD y la contraseña \n",
    "        self.nombre_bbdd = nombre_bbdd\n",
    "        self.contraseña = contraseña\n",
    "    \n",
    "    # Creamos la función para crear la base de datos\n",
    "    def crear_bbdd(self):\n",
    "\n",
    "        mydb = mysql.connector.connect(\n",
    "        host=\"localhost\",\n",
    "        user=\"root\",\n",
    "        password= f'{self.contraseña}' \n",
    "        )\n",
    "        print(\"Conexión realizada con éxito\")\n",
    "        \n",
    "        mycursor = mydb.cursor()\n",
    "\n",
    "        try:\n",
    "            mycursor.execute(f\"CREATE DATABASE IF NOT EXISTS {self.nombre_bbdd};\")\n",
    "            print(mycursor)\n",
    "        except mysql.connector.Error as err:\n",
    "            print(err)\n",
    "            print(\"Error Code:\", err.errno)\n",
    "            print(\"SQLSTATE\", err.sqlstate)\n",
    "            print(\"Message\", err.msg)\n",
    "\n",
    "\n",
    "    # Creamos una funcion para crear nuestras tablas\n",
    "    def crear_tabla(self, query):\n",
    "    \n",
    "    # nos conectamos con el servidor usando el conector de sql\n",
    "        cnx = mysql.connector.connect(user='root', password=f\"{self.contraseña}\",\n",
    "                                        host='127.0.0.1', database=f\"{self.nombre_bbdd}\")\n",
    "        # iniciamos el cursor\n",
    "        mycursor = cnx.cursor()\n",
    "        \n",
    "        # intentamos hacer la query\n",
    "        try: \n",
    "            mycursor.execute(query)\n",
    "            cnx.commit() \n",
    "        # en caso de que podamos ejecutar la query devuelvenos un error para saber en que nos estamos equivocando\n",
    "        except mysql.connector.Error as err:\n",
    "            print(err)\n",
    "            print(\"Error Code:\", err.errno)\n",
    "            print(\"SQLSTATE\", err.sqlstate)\n",
    "            print(\"Message\", err.msg)\n",
    "\n",
    "    # Creamos una función para insertar los datos\n",
    "    def insercion_datos(self, query):\n",
    "        cnx = mysql.connector.connect(user='root', password=f\"{self.contraseña}\",\n",
    "                                    host='127.0.0.1', database=f\"{self.nombre_bbdd}\")\n",
    "        mycursor = cnx.cursor()\n",
    "        \n",
    "        try: \n",
    "            # Le añadimos un escape para poder subir los datos a pesar de tener una foreign key\n",
    "            mycursor.execute(\"SET foreign_key_checks = 0;\")\n",
    "            mycursor.execute(query)\n",
    "            cnx.commit()\n",
    "            mycursor.execute(\"SET foreign_key_checks = 1;\")\n",
    "\n",
    "        except mysql.connector.Error as err:\n",
    "            print(err)\n",
    "            print(\"Error Code:\", err.errno)\n",
    "            print(\"SQLSTATE\", err.sqlstate)\n",
    "            print(\"Message\", err.msg)\n",
    "        "
   ]
  },
  {
   "cell_type": "code",
   "execution_count": 19,
   "metadata": {},
   "outputs": [],
   "source": [
    "# Llamamos a la clase\n",
    "ata = Subir_SQL(\"tiburones2\", \"AlumnaAdalab\")"
   ]
  },
  {
   "cell_type": "code",
   "execution_count": 20,
   "metadata": {},
   "outputs": [
    {
     "name": "stdout",
     "output_type": "stream",
     "text": [
      "Conexión realizada con éxito\n",
      "MySQLCursor: CREATE DATABASE IF NOT EXISTS tiburones2..\n"
     ]
    }
   ],
   "source": [
    "# Creamos la base de datos\n",
    "ata.crear_bbdd()"
   ]
  },
  {
   "cell_type": "code",
   "execution_count": 21,
   "metadata": {},
   "outputs": [],
   "source": [
    "# Query para crear la tabla paises\n",
    "tabla_paises = '''\n",
    "CREATE TABLE IF NOT EXISTS `paises` (\n",
    "  `country` VARCHAR (45) NOT NULL,\n",
    "  `id_country` INT NOT NULL,\n",
    "  PRIMARY KEY (`id_country`))\n",
    "  ;'''"
   ]
  },
  {
   "cell_type": "code",
   "execution_count": 22,
   "metadata": {},
   "outputs": [],
   "source": [
    "# Creamos la query para crear la tabla clima, con una foreign key a paises\n",
    "tabla_clima = '''\n",
    "CREATE TABLE IF NOT EXISTS `clima` (\n",
    "  `id_clima` INT NOT NULL AUTO_INCREMENT,\n",
    "  `timepoint` INT NOT NULL,\n",
    "  `cloudcover` INT NOT NULL,\n",
    "  `highcloud` INT NOT NULL,\n",
    "  `midcloud` INT NOT NULL,\n",
    "  `lowcloud` INT NOT NULL,\n",
    "  `rh_profile` VARCHAR (45) NOT NULL,\n",
    "  `wind_profile` VARCHAR (45) NOT NULL,\n",
    "  `temp2m` INT NOT NULL,\n",
    "  `lifted_index` INT NOT NULL,\n",
    "  `rh2m` INT NOT NULL,\n",
    "  `msl_pressure` INT NOT NULL,\n",
    "  `prec_type` VARCHAR (45) NOT NULL,\n",
    "  `prec_amount` INT NOT NULL,\n",
    "  `snow_depth` INT NOT NULL,\n",
    "  `wind10m.direction` INT NOT NULL,\n",
    "  `wind10m.speed` INT NOT NULL,\n",
    "  `country` VARCHAR (45) NOT NULL,\n",
    "  `latitud` DECIMAL NOT NULL,\n",
    "  `longitud` DECIMAL NOT NULL,\n",
    "  `id_country` INT NOT NULL,\n",
    "  PRIMARY KEY (`id_clima`),\n",
    "  INDEX `fk_ataques_paises1_idx` (`id_country` ASC) ,\n",
    "  CONSTRAINT `fk_clima_paises` \n",
    "    FOREIGN KEY (`id_country`) \n",
    "    REFERENCES `paises`(`id_country`))\n",
    "  ENGINE = InnoDB\n",
    "  ;'''"
   ]
  },
  {
   "cell_type": "code",
   "execution_count": 23,
   "metadata": {},
   "outputs": [],
   "source": [
    "# Creamos la query para crear la tabla ataques, con una foreign key a paises\n",
    "tabla_ataques = \"\"\"\n",
    "CREATE TABLE IF NOT EXISTS `ataques` (\n",
    "    `id_ataques` INT NOT NULL AUTO_INCREMENT PRIMARY KEY,\n",
    "    `year` INT NOT NULL,\n",
    "    `type` VARCHAR(200) NOT NULL,\n",
    "    `country` VARCHAR(45) NOT NULL,\n",
    "    `activity` VARCHAR(200) NOT NULL,\n",
    "    `age` INT NOT NULL,\n",
    "    `species` VARCHAR(200) NOT NULL,\n",
    "    `month` VARCHAR(200) NOT NULL,\n",
    "    `fatal` VARCHAR(200) NOT NULL,\n",
    "    `gender` VARCHAR(200) NOT NULL,\n",
    "    `id_country` INT NOT NULL,\n",
    "    INDEX `fk_ataques_paises1_idx` (`id_country` ASC) ,\n",
    "    CONSTRAINT `fk_ataques_paises` \n",
    "        FOREIGN KEY (`id_country`) \n",
    "        REFERENCES `paises`(`id_country`))\n",
    "    ENGINE = InnoDB\n",
    "    ;\"\"\""
   ]
  },
  {
   "cell_type": "code",
   "execution_count": 24,
   "metadata": {},
   "outputs": [],
   "source": [
    "# Creamos las tablas\n",
    "ata.crear_tabla(tabla_paises)\n",
    "ata.crear_tabla(tabla_clima)\n",
    "ata.crear_tabla(tabla_ataques)"
   ]
  },
  {
   "cell_type": "code",
   "execution_count": 25,
   "metadata": {},
   "outputs": [],
   "source": [
    "df_ataques[\"activity\"] = df_ataques[\"activity\"].replace(r'\"', '', regex= True)"
   ]
  },
  {
   "cell_type": "code",
   "execution_count": 26,
   "metadata": {},
   "outputs": [],
   "source": [
    "# Iteramos por las filas del df ataques para ir insertando los datos en nuestra BBDD\n",
    "for indice, fila in df_ataques.iterrows(): # iteramos por el dataframe.\n",
    "    \n",
    "    # definimos nuestra query, igual que si lo hicieramos en workbench. ⚠️ Como estamos definiendo nuestra query en varias líneas usamos las triples comillas\n",
    "    # lo valores que introduciremos serán los del dataframe que estamos iterando, por lo que usaremos los formats de los strings. \n",
    "    \n",
    "    query_ataques = f\"\"\"\n",
    "            INSERT INTO ataques (year, type, country, activity, age, species, month, fatal, gender, id_country)\n",
    "            VALUES ( \"{fila['year']}\", \"{fila['type']}\", \"{fila['country']}\", \"{fila['activity']}\", \"{fila['age']}\", \"{fila['species']}\", \"{fila['month']}\", \"{fila['fatal']}\", \"{fila['gender']}\", \"{fila['id_country']}\");\n",
    "            \"\"\"\n",
    "    # una vez definida la query llamamos a la función que nos inserta los datos. \n",
    "    ata.insercion_datos(query_ataques)"
   ]
  }
 ],
 "metadata": {
  "kernelspec": {
   "display_name": "Python 3",
   "language": "python",
   "name": "python3"
  },
  "language_info": {
   "codemirror_mode": {
    "name": "ipython",
    "version": 3
   },
   "file_extension": ".py",
   "mimetype": "text/x-python",
   "name": "python",
   "nbconvert_exporter": "python",
   "pygments_lexer": "ipython3",
   "version": "3.8.10"
  },
  "orig_nbformat": 4,
  "vscode": {
   "interpreter": {
    "hash": "94b3ff6a27870a7cc36cfcc233c2d6d7a500b67077a2ccb041bb9f3f5f987204"
   }
  }
 },
 "nbformat": 4,
 "nbformat_minor": 2
}
