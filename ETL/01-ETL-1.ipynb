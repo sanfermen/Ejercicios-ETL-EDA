{
 "cells": [
  {
   "cell_type": "code",
   "execution_count": 2,
   "metadata": {},
   "outputs": [],
   "source": [
    "from IPython.core.interactiveshell import InteractiveShell # Nos permite mostar más de una salida por celda\n",
    "InteractiveShell.ast_node_interactivity = \"all\" # Nos permite mostar más de una salida por celda\n",
    "import requests\n",
    "import pandas as pd\n",
    "import numpy as np"
   ]
  },
  {
   "attachments": {},
   "cell_type": "markdown",
   "metadata": {},
   "source": [
    "# Pair Programming ETL I\n",
    "Vamos a nutrir los datos de los ataques de los tiburones con información climática de los paises que tenemos. Para eso vamos a usar la API del clima que hemos aprendido en la clase invertida:"
   ]
  },
  {
   "attachments": {},
   "cell_type": "markdown",
   "metadata": {},
   "source": [
    "En este caso os recomendamos que uséis el producto meteo para obtener la información climática. Para hacer la llamada a la API necesitamos también las coordenadas de los paises que tenemos en el dataset.\n",
    "\n",
    "\n",
    "Por lo tanto, el objetivo es que saquéis la información del clima de la API para los paises que tenemos. Pero antes de poneros manos a la obra, tenemos muchísimos países y esto puede hacerse eterno. Sacad la información climática solo para los siguientes países, con las siguientes coordenadas:"
   ]
  },
  {
   "attachments": {},
   "cell_type": "markdown",
   "metadata": {},
   "source": [
    "Requisitos de este ejercicio de pair programming:\n",
    "\n",
    "- Deberéis meter toda la información climática en un único dataframe.\n",
    "- Deberéis hacer la llamada a la API de una sola vez. Es decir, tendréis que iterar por la lista de países y sacar la información del clima para cada uno de ellos.\n",
    "- Al meter toda la información en un único dataframe tendremos que crear una columna que corresponda con el nombre del país.\n",
    "- Guardar el dataframe obtenido para usarlo en la siguiente sesión de pair programming.\n",
    "\n",
    "💡 Pistas 💡:\n",
    "- Crearos un diccionario donde:\n",
    "    -   Las keys sean los nombres de los paises\n",
    "    -   Los values sean las coordenadas de los paises en formato lista.\n",
    "\n",
    "- Iterar por el diccionario. Dentro del for haremos la llamada a la API como hemos aprendido en las clases invertidas. Recordamos que para iterar por el diccionario tenemos que seguir la siguiente estructura:\n",
    "for key, value in diccionario.items():\n",
    "    print(key, value)\n",
    "\n",
    "- Crearnos un dataframe vacío donde iremos concatenando los datos obtenidos de la API cada país.\n",
    "Guardad el csv ya que mañana lo necesitaremos para hacer el ejercicio de pair programming."
   ]
  },
  {
   "cell_type": "code",
   "execution_count": 3,
   "metadata": {},
   "outputs": [],
   "source": [
    "# Creamos un diccionario con la latitud y longitud de los paises:                         \n",
    "                        # Pais : [Latitud, Longitud]\n",
    "paises_coordenadas = {\"usa\": [39.7837304, -100.445882], \n",
    "                        \"australia\": [-24.7761086, 134.755], \n",
    "                        \"south africa\": [-28.8166236, 24.991639], \n",
    "                        \"new zealand\": [-41.5000831, 172.8344077], \n",
    "                        \"papua new guinea\": [-5.6816069, 144.2489081]}"
   ]
  },
  {
   "cell_type": "code",
   "execution_count": 4,
   "metadata": {},
   "outputs": [],
   "source": [
    "def llamada_API(dicc, producto):\n",
    "#Iteramos por el diccionario en busca de nuestros valores\n",
    "    lista_dataframes = []\n",
    "    for k, v in dicc.items():\n",
    "        lat = v[0]\n",
    "        lon = v[1]\n",
    "    \n",
    "    # hacemos la llamada  a la API\n",
    "        url = f'http://www.7timer.info/bin/api.pl?lon=-{lon}&lat={lat}&product={producto}&output=json'\n",
    "        response = requests.get(url=url)\n",
    "        codigo_estado = response.status_code\n",
    "        razon_estado = response.reason\n",
    "    # Ponemos esto para comprobar si todo está correcto.    \n",
    "        if codigo_estado == 200:\n",
    "            print('La peticion de se ha realizado correctamente, se ha devuelto el código de estado:',codigo_estado,' y como razón del código de estado: ',razon_estado)\n",
    "        elif codigo_estado == 402:\n",
    "            print('No se ha podido autorizar usuario, se ha devuelto el código de estado:', codigo_estado,' y como razón del código de estado: ',razon_estado)\n",
    "        elif codigo_estado == 404:\n",
    "            print('Algo ha salido mal, el recurso no se ha encontrado,se ha devuelto el código de estado:', codigo_estado,' y como razón del código de estado: ',razon_estado)\n",
    "        else:\n",
    "            print('Algo inesperado ha ocurrido, se ha devuelto el código de estado:', codigo_estado,' y como razón del código de estado: ',razon_estado)\n",
    "        \n",
    "     # convertimos los resultados en un dataframe:\n",
    "        df = pd.DataFrame.from_dict(pd.json_normalize(response.json()['dataseries']))\n",
    "    # Creamos columnas con el nombre del pais, la latitud y la longitud para poder hacer la union.\n",
    "        df[\"country\"] = k\n",
    "        df[\"latitud\"] = lat\n",
    "        df[\"longitud\"] = lon\n",
    "\n",
    "        # Apendeamos el dataframe en una lista que hemos creado\n",
    "        lista_dataframes.append(df)\n",
    "    \n",
    "    # juntamos todos los dataframes\n",
    "    data = pd.concat(lista_dataframes, axis= 0, ignore_index= True)\n",
    "    return data"
   ]
  },
  {
   "cell_type": "code",
   "execution_count": 5,
   "metadata": {},
   "outputs": [
    {
     "name": "stdout",
     "output_type": "stream",
     "text": [
      "La peticion de se ha realizado correctamente, se ha devuelto el código de estado: 200  y como razón del código de estado:  OK\n",
      "La peticion de se ha realizado correctamente, se ha devuelto el código de estado: 200  y como razón del código de estado:  OK\n",
      "La peticion de se ha realizado correctamente, se ha devuelto el código de estado: 200  y como razón del código de estado:  OK\n",
      "La peticion de se ha realizado correctamente, se ha devuelto el código de estado: 200  y como razón del código de estado:  OK\n",
      "La peticion de se ha realizado correctamente, se ha devuelto el código de estado: 200  y como razón del código de estado:  OK\n"
     ]
    },
    {
     "data": {
      "text/html": [
       "<div>\n",
       "<style scoped>\n",
       "    .dataframe tbody tr th:only-of-type {\n",
       "        vertical-align: middle;\n",
       "    }\n",
       "\n",
       "    .dataframe tbody tr th {\n",
       "        vertical-align: top;\n",
       "    }\n",
       "\n",
       "    .dataframe thead th {\n",
       "        text-align: right;\n",
       "    }\n",
       "</style>\n",
       "<table border=\"1\" class=\"dataframe\">\n",
       "  <thead>\n",
       "    <tr style=\"text-align: right;\">\n",
       "      <th></th>\n",
       "      <th>timepoint</th>\n",
       "      <th>cloudcover</th>\n",
       "      <th>highcloud</th>\n",
       "      <th>midcloud</th>\n",
       "      <th>lowcloud</th>\n",
       "      <th>rh_profile</th>\n",
       "      <th>wind_profile</th>\n",
       "      <th>temp2m</th>\n",
       "      <th>lifted_index</th>\n",
       "      <th>rh2m</th>\n",
       "      <th>msl_pressure</th>\n",
       "      <th>prec_type</th>\n",
       "      <th>prec_amount</th>\n",
       "      <th>snow_depth</th>\n",
       "      <th>wind10m.direction</th>\n",
       "      <th>wind10m.speed</th>\n",
       "      <th>country</th>\n",
       "      <th>latitud</th>\n",
       "      <th>longitud</th>\n",
       "    </tr>\n",
       "  </thead>\n",
       "  <tbody>\n",
       "    <tr>\n",
       "      <th>105</th>\n",
       "      <td>126</td>\n",
       "      <td>1</td>\n",
       "      <td>-9999</td>\n",
       "      <td>-9999</td>\n",
       "      <td>-9999</td>\n",
       "      <td>[{'layer': '950mb', 'rh': 14}, {'layer': '900m...</td>\n",
       "      <td>[{'layer': '950mb', 'direction': 20, 'speed': ...</td>\n",
       "      <td>26</td>\n",
       "      <td>-4</td>\n",
       "      <td>11</td>\n",
       "      <td>1015</td>\n",
       "      <td>rain</td>\n",
       "      <td>3</td>\n",
       "      <td>0</td>\n",
       "      <td>20</td>\n",
       "      <td>3</td>\n",
       "      <td>australia</td>\n",
       "      <td>-24.776109</td>\n",
       "      <td>134.755000</td>\n",
       "    </tr>\n",
       "    <tr>\n",
       "      <th>95</th>\n",
       "      <td>96</td>\n",
       "      <td>1</td>\n",
       "      <td>-9999</td>\n",
       "      <td>-9999</td>\n",
       "      <td>-9999</td>\n",
       "      <td>[{'layer': '950mb', 'rh': 14}, {'layer': '900m...</td>\n",
       "      <td>[{'layer': '950mb', 'direction': 80, 'speed': ...</td>\n",
       "      <td>25</td>\n",
       "      <td>-4</td>\n",
       "      <td>11</td>\n",
       "      <td>1012</td>\n",
       "      <td>rain</td>\n",
       "      <td>3</td>\n",
       "      <td>0</td>\n",
       "      <td>80</td>\n",
       "      <td>3</td>\n",
       "      <td>australia</td>\n",
       "      <td>-24.776109</td>\n",
       "      <td>134.755000</td>\n",
       "    </tr>\n",
       "    <tr>\n",
       "      <th>164</th>\n",
       "      <td>111</td>\n",
       "      <td>9</td>\n",
       "      <td>-9999</td>\n",
       "      <td>-9999</td>\n",
       "      <td>-9999</td>\n",
       "      <td>[{'layer': '950mb', 'rh': 12}, {'layer': '900m...</td>\n",
       "      <td>[{'layer': '950mb', 'direction': 325, 'speed':...</td>\n",
       "      <td>24</td>\n",
       "      <td>2</td>\n",
       "      <td>10</td>\n",
       "      <td>1018</td>\n",
       "      <td>none</td>\n",
       "      <td>1</td>\n",
       "      <td>0</td>\n",
       "      <td>335</td>\n",
       "      <td>2</td>\n",
       "      <td>south africa</td>\n",
       "      <td>-28.816624</td>\n",
       "      <td>24.991639</td>\n",
       "    </tr>\n",
       "  </tbody>\n",
       "</table>\n",
       "</div>"
      ],
      "text/plain": [
       "     timepoint  cloudcover  highcloud  midcloud  lowcloud  \\\n",
       "105        126           1      -9999     -9999     -9999   \n",
       "95          96           1      -9999     -9999     -9999   \n",
       "164        111           9      -9999     -9999     -9999   \n",
       "\n",
       "                                            rh_profile  \\\n",
       "105  [{'layer': '950mb', 'rh': 14}, {'layer': '900m...   \n",
       "95   [{'layer': '950mb', 'rh': 14}, {'layer': '900m...   \n",
       "164  [{'layer': '950mb', 'rh': 12}, {'layer': '900m...   \n",
       "\n",
       "                                          wind_profile  temp2m  lifted_index  \\\n",
       "105  [{'layer': '950mb', 'direction': 20, 'speed': ...      26            -4   \n",
       "95   [{'layer': '950mb', 'direction': 80, 'speed': ...      25            -4   \n",
       "164  [{'layer': '950mb', 'direction': 325, 'speed':...      24             2   \n",
       "\n",
       "     rh2m  msl_pressure prec_type  prec_amount  snow_depth wind10m.direction  \\\n",
       "105    11          1015      rain            3           0                20   \n",
       "95     11          1012      rain            3           0                80   \n",
       "164    10          1018      none            1           0               335   \n",
       "\n",
       "     wind10m.speed       country    latitud    longitud  \n",
       "105              3     australia -24.776109  134.755000  \n",
       "95               3     australia -24.776109  134.755000  \n",
       "164              2  south africa -28.816624   24.991639  "
      ]
     },
     "execution_count": 5,
     "metadata": {},
     "output_type": "execute_result"
    }
   ],
   "source": [
    "# Llamamos a la función y creamos el dataframe con el producto meteo y las coordenadas que hemos guardado en el diccionario\n",
    "df = llamada_API( paises_coordenadas, 'meteo')\n",
    "df.sample(3)"
   ]
  },
  {
   "cell_type": "code",
   "execution_count": 6,
   "metadata": {},
   "outputs": [
    {
     "data": {
      "text/plain": [
       "usa                 64\n",
       "australia           64\n",
       "south africa        64\n",
       "new zealand         64\n",
       "papua new guinea    64\n",
       "Name: country, dtype: int64"
      ]
     },
     "execution_count": 6,
     "metadata": {},
     "output_type": "execute_result"
    }
   ],
   "source": [
    "# Comprobamos que se hayan incluido\n",
    "df.country.value_counts()"
   ]
  },
  {
   "cell_type": "code",
   "execution_count": 7,
   "metadata": {},
   "outputs": [
    {
     "data": {
      "text/plain": [
       "(320, 19)"
      ]
     },
     "execution_count": 7,
     "metadata": {},
     "output_type": "execute_result"
    }
   ],
   "source": [
    "df.shape"
   ]
  },
  {
   "cell_type": "code",
   "execution_count": 8,
   "metadata": {},
   "outputs": [
    {
     "data": {
      "text/plain": [
       "timepoint            0\n",
       "cloudcover           0\n",
       "highcloud            0\n",
       "midcloud             0\n",
       "lowcloud             0\n",
       "rh_profile           0\n",
       "wind_profile         0\n",
       "temp2m               0\n",
       "lifted_index         0\n",
       "rh2m                 0\n",
       "msl_pressure         0\n",
       "prec_type            0\n",
       "prec_amount          0\n",
       "snow_depth           0\n",
       "wind10m.direction    0\n",
       "wind10m.speed        0\n",
       "country              0\n",
       "latitud              0\n",
       "longitud             0\n",
       "dtype: int64"
      ]
     },
     "execution_count": 8,
     "metadata": {},
     "output_type": "execute_result"
    }
   ],
   "source": [
    "# Comprobamos también si hay nulos\n",
    "df.isnull().sum()"
   ]
  },
  {
   "cell_type": "code",
   "execution_count": 9,
   "metadata": {},
   "outputs": [],
   "source": [
    "# Guardamos el df\n",
    "df.to_csv(\"../data/00-datos_clima.csv\")"
   ]
  },
  {
   "cell_type": "code",
   "execution_count": 10,
   "metadata": {},
   "outputs": [],
   "source": [
    "df.to_pickle('../data/00-datos-clima.pkl')"
   ]
  }
 ],
 "metadata": {
  "kernelspec": {
   "display_name": "base",
   "language": "python",
   "name": "python3"
  },
  "language_info": {
   "codemirror_mode": {
    "name": "ipython",
    "version": 3
   },
   "file_extension": ".py",
   "mimetype": "text/x-python",
   "name": "python",
   "nbconvert_exporter": "python",
   "pygments_lexer": "ipython3",
   "version": "3.9.7"
  },
  "orig_nbformat": 4,
  "vscode": {
   "interpreter": {
    "hash": "f25093244bacc7e62393c275f4a06a2027bcbdb9a67d7fe53680dbd2484adc03"
   }
  }
 },
 "nbformat": 4,
 "nbformat_minor": 2
}
